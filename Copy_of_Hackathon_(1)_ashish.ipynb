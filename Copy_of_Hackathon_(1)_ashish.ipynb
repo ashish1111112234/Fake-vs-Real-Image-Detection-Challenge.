{
  "nbformat": 4,
  "nbformat_minor": 0,
  "metadata": {
    "accelerator": "GPU",
    "colab": {
      "name": "Copy_of_Hackathon_(1)_ashish.ipynb",
      "provenance": [],
      "collapsed_sections": [],
      "machine_shape": "hm"
    },
    "kernelspec": {
      "display_name": "Python 3",
      "name": "python3"
    }
  },
  "cells": [
    {
      "cell_type": "markdown",
      "metadata": {
        "id": "GvlTdy6kh1js"
      },
      "source": [
        ""
      ]
    },
    {
      "cell_type": "markdown",
      "metadata": {
        "id": "ovU260IQ2hwi"
      },
      "source": [
        "Day 1\n",
        "*   DNN without convolution layer - test accuracy - 0.4879\n",
        "\n",
        "Day 2\n",
        "\n",
        "\n",
        "*   CNN with \n",
        "*   List item\n",
        "\n",
        "\n",
        "\n",
        "\n",
        "\n",
        "\n",
        "\n",
        "\n",
        "\n"
      ]
    },
    {
      "cell_type": "code",
      "metadata": {
        "id": "EGeztLT14HtC"
      },
      "source": [
        "import numpy as np \n",
        "import pandas as pd \n",
        "import os\n",
        "import tensorflow as tf\n",
        "import keras\n",
        "from keras.models import Sequential\n",
        "from keras.layers import Dense, Dropout\n",
        "import matplotlib.pyplot as plt\n",
        "from sklearn.model_selection import train_test_split\n",
        "import cv2\n",
        "import glob"
      ],
      "execution_count": null,
      "outputs": []
    },
    {
      "cell_type": "code",
      "metadata": {
        "colab": {
          "base_uri": "https://localhost:8080/"
        },
        "id": "1IetrhJyeXdX",
        "outputId": "c40822b0-dcc2-4c83-a2dd-cc316020b46c"
      },
      "source": [
        "\n",
        "\n",
        "from google.colab import drive\n",
        "drive.mount('/content/drive')"
      ],
      "execution_count": null,
      "outputs": [
        {
          "output_type": "stream",
          "text": [
            "Mounted at /content/drive\n"
          ],
          "name": "stdout"
        }
      ]
    },
    {
      "cell_type": "code",
      "metadata": {
        "colab": {
          "base_uri": "https://localhost:8080/"
        },
        "id": "BqLbL2omejH2",
        "outputId": "98a9a642-7945-4086-93f2-ffb9336c4e90"
      },
      "source": [
        "cd \"/content/drive/MyDrive/dl hackaton\""
      ],
      "execution_count": null,
      "outputs": [
        {
          "output_type": "stream",
          "text": [
            "/content/drive/MyDrive/dl hackaton\n"
          ],
          "name": "stdout"
        }
      ]
    },
    {
      "cell_type": "code",
      "metadata": {
        "id": "PBUZ5ZssdM_h"
      },
      "source": [
        "train=pd.read_csv(\"train.csv\")"
      ],
      "execution_count": null,
      "outputs": []
    },
    {
      "cell_type": "code",
      "metadata": {
        "colab": {
          "base_uri": "https://localhost:8080/",
          "height": 419
        },
        "id": "CVbj-egodc8x",
        "outputId": "ce1730aa-ca0f-4eb8-e5e3-35d31e12fc3c"
      },
      "source": [
        "train"
      ],
      "execution_count": null,
      "outputs": [
        {
          "output_type": "execute_result",
          "data": {
            "text/html": [
              "<div>\n",
              "<style scoped>\n",
              "    .dataframe tbody tr th:only-of-type {\n",
              "        vertical-align: middle;\n",
              "    }\n",
              "\n",
              "    .dataframe tbody tr th {\n",
              "        vertical-align: top;\n",
              "    }\n",
              "\n",
              "    .dataframe thead th {\n",
              "        text-align: right;\n",
              "    }\n",
              "</style>\n",
              "<table border=\"1\" class=\"dataframe\">\n",
              "  <thead>\n",
              "    <tr style=\"text-align: right;\">\n",
              "      <th></th>\n",
              "      <th>file_id</th>\n",
              "      <th>label</th>\n",
              "    </tr>\n",
              "  </thead>\n",
              "  <tbody>\n",
              "    <tr>\n",
              "      <th>0</th>\n",
              "      <td>0</td>\n",
              "      <td>0</td>\n",
              "    </tr>\n",
              "    <tr>\n",
              "      <th>1</th>\n",
              "      <td>1</td>\n",
              "      <td>0</td>\n",
              "    </tr>\n",
              "    <tr>\n",
              "      <th>2</th>\n",
              "      <td>2</td>\n",
              "      <td>0</td>\n",
              "    </tr>\n",
              "    <tr>\n",
              "      <th>3</th>\n",
              "      <td>3</td>\n",
              "      <td>0</td>\n",
              "    </tr>\n",
              "    <tr>\n",
              "      <th>4</th>\n",
              "      <td>4</td>\n",
              "      <td>0</td>\n",
              "    </tr>\n",
              "    <tr>\n",
              "      <th>...</th>\n",
              "      <td>...</td>\n",
              "      <td>...</td>\n",
              "    </tr>\n",
              "    <tr>\n",
              "      <th>1704</th>\n",
              "      <td>1704</td>\n",
              "      <td>1</td>\n",
              "    </tr>\n",
              "    <tr>\n",
              "      <th>1705</th>\n",
              "      <td>1705</td>\n",
              "      <td>1</td>\n",
              "    </tr>\n",
              "    <tr>\n",
              "      <th>1706</th>\n",
              "      <td>1706</td>\n",
              "      <td>1</td>\n",
              "    </tr>\n",
              "    <tr>\n",
              "      <th>1707</th>\n",
              "      <td>1707</td>\n",
              "      <td>1</td>\n",
              "    </tr>\n",
              "    <tr>\n",
              "      <th>1708</th>\n",
              "      <td>1708</td>\n",
              "      <td>1</td>\n",
              "    </tr>\n",
              "  </tbody>\n",
              "</table>\n",
              "<p>1709 rows × 2 columns</p>\n",
              "</div>"
            ],
            "text/plain": [
              "      file_id  label\n",
              "0           0      0\n",
              "1           1      0\n",
              "2           2      0\n",
              "3           3      0\n",
              "4           4      0\n",
              "...       ...    ...\n",
              "1704     1704      1\n",
              "1705     1705      1\n",
              "1706     1706      1\n",
              "1707     1707      1\n",
              "1708     1708      1\n",
              "\n",
              "[1709 rows x 2 columns]"
            ]
          },
          "metadata": {
            "tags": []
          },
          "execution_count": 8
        }
      ]
    },
    {
      "cell_type": "code",
      "metadata": {
        "id": "FXGy4CWO0tbU"
      },
      "source": [
        "project_path='/content/drive/MyDrive/new dl hackaton'"
      ],
      "execution_count": null,
      "outputs": []
    },
    {
      "cell_type": "code",
      "metadata": {
        "id": "X6gdmtN4e_0x"
      },
      "source": [
        "path=\"/train/\""
      ],
      "execution_count": null,
      "outputs": []
    },
    {
      "cell_type": "code",
      "metadata": {
        "colab": {
          "base_uri": "https://localhost:8080/"
        },
        "id": "CW4HOrCvf0Kx",
        "outputId": "4ad2934c-6599-43ca-c9e5-5d4128187261"
      },
      "source": [
        "train.info()"
      ],
      "execution_count": null,
      "outputs": [
        {
          "output_type": "stream",
          "text": [
            "<class 'pandas.core.frame.DataFrame'>\n",
            "RangeIndex: 1709 entries, 0 to 1708\n",
            "Data columns (total 2 columns):\n",
            " #   Column   Non-Null Count  Dtype\n",
            "---  ------   --------------  -----\n",
            " 0   file_id  1709 non-null   int64\n",
            " 1   label    1709 non-null   int64\n",
            "dtypes: int64(2)\n",
            "memory usage: 26.8 KB\n"
          ],
          "name": "stdout"
        }
      ]
    },
    {
      "cell_type": "code",
      "metadata": {
        "id": "N-wDTHV3fTVy"
      },
      "source": [
        "train[\"path\"]=train[\"file_id\"].apply(lambda x:\"train/\"+str(x).strip()+\".jpg\")"
      ],
      "execution_count": null,
      "outputs": []
    },
    {
      "cell_type": "code",
      "metadata": {
        "colab": {
          "base_uri": "https://localhost:8080/",
          "height": 204
        },
        "id": "1cKktnPifcr4",
        "outputId": "2ec165d4-4c20-41a0-c700-804db182bcd0"
      },
      "source": [
        "train.head()"
      ],
      "execution_count": null,
      "outputs": [
        {
          "output_type": "execute_result",
          "data": {
            "text/html": [
              "<div>\n",
              "<style scoped>\n",
              "    .dataframe tbody tr th:only-of-type {\n",
              "        vertical-align: middle;\n",
              "    }\n",
              "\n",
              "    .dataframe tbody tr th {\n",
              "        vertical-align: top;\n",
              "    }\n",
              "\n",
              "    .dataframe thead th {\n",
              "        text-align: right;\n",
              "    }\n",
              "</style>\n",
              "<table border=\"1\" class=\"dataframe\">\n",
              "  <thead>\n",
              "    <tr style=\"text-align: right;\">\n",
              "      <th></th>\n",
              "      <th>file_id</th>\n",
              "      <th>label</th>\n",
              "      <th>path</th>\n",
              "    </tr>\n",
              "  </thead>\n",
              "  <tbody>\n",
              "    <tr>\n",
              "      <th>0</th>\n",
              "      <td>0</td>\n",
              "      <td>0</td>\n",
              "      <td>train/0.jpg</td>\n",
              "    </tr>\n",
              "    <tr>\n",
              "      <th>1</th>\n",
              "      <td>1</td>\n",
              "      <td>0</td>\n",
              "      <td>train/1.jpg</td>\n",
              "    </tr>\n",
              "    <tr>\n",
              "      <th>2</th>\n",
              "      <td>2</td>\n",
              "      <td>0</td>\n",
              "      <td>train/2.jpg</td>\n",
              "    </tr>\n",
              "    <tr>\n",
              "      <th>3</th>\n",
              "      <td>3</td>\n",
              "      <td>0</td>\n",
              "      <td>train/3.jpg</td>\n",
              "    </tr>\n",
              "    <tr>\n",
              "      <th>4</th>\n",
              "      <td>4</td>\n",
              "      <td>0</td>\n",
              "      <td>train/4.jpg</td>\n",
              "    </tr>\n",
              "  </tbody>\n",
              "</table>\n",
              "</div>"
            ],
            "text/plain": [
              "   file_id  label         path\n",
              "0        0      0  train/0.jpg\n",
              "1        1      0  train/1.jpg\n",
              "2        2      0  train/2.jpg\n",
              "3        3      0  train/3.jpg\n",
              "4        4      0  train/4.jpg"
            ]
          },
          "metadata": {
            "tags": []
          },
          "execution_count": 13
        }
      ]
    },
    {
      "cell_type": "code",
      "metadata": {
        "id": "qy6mxMmcs8ep"
      },
      "source": [
        "from sklearn.model_selection import train_test_split\n",
        "train_df, test_df = train_test_split(train, test_size=0.2, random_state=42)"
      ],
      "execution_count": null,
      "outputs": []
    },
    {
      "cell_type": "code",
      "metadata": {
        "id": "dmCTKA_pwRnM"
      },
      "source": [
        "train_df.reset_index(drop=True,inplace=True)\n",
        "test_df.reset_index(drop=True,inplace=True)"
      ],
      "execution_count": null,
      "outputs": []
    },
    {
      "cell_type": "code",
      "metadata": {
        "id": "pJJaYfDFp9EF"
      },
      "source": [
        "test=pd.read_csv(\"test.csv\")"
      ],
      "execution_count": null,
      "outputs": []
    },
    {
      "cell_type": "code",
      "metadata": {
        "id": "x0CBSAKaqBru"
      },
      "source": [
        "test[\"path\"]=test[\"file_id\"].apply(lambda x:\"test/\"+str(x).strip()+\".jpg\")"
      ],
      "execution_count": null,
      "outputs": []
    },
    {
      "cell_type": "code",
      "metadata": {
        "colab": {
          "base_uri": "https://localhost:8080/",
          "height": 419
        },
        "id": "MkOgjWcuqIYa",
        "outputId": "48b8c2b9-bec2-4953-c6e0-8ba9648a7b27"
      },
      "source": [
        "test"
      ],
      "execution_count": null,
      "outputs": [
        {
          "output_type": "execute_result",
          "data": {
            "text/html": [
              "<div>\n",
              "<style scoped>\n",
              "    .dataframe tbody tr th:only-of-type {\n",
              "        vertical-align: middle;\n",
              "    }\n",
              "\n",
              "    .dataframe tbody tr th {\n",
              "        vertical-align: top;\n",
              "    }\n",
              "\n",
              "    .dataframe thead th {\n",
              "        text-align: right;\n",
              "    }\n",
              "</style>\n",
              "<table border=\"1\" class=\"dataframe\">\n",
              "  <thead>\n",
              "    <tr style=\"text-align: right;\">\n",
              "      <th></th>\n",
              "      <th>file_id</th>\n",
              "      <th>path</th>\n",
              "    </tr>\n",
              "  </thead>\n",
              "  <tbody>\n",
              "    <tr>\n",
              "      <th>0</th>\n",
              "      <td>0</td>\n",
              "      <td>test/0.jpg</td>\n",
              "    </tr>\n",
              "    <tr>\n",
              "      <th>1</th>\n",
              "      <td>1</td>\n",
              "      <td>test/1.jpg</td>\n",
              "    </tr>\n",
              "    <tr>\n",
              "      <th>2</th>\n",
              "      <td>2</td>\n",
              "      <td>test/2.jpg</td>\n",
              "    </tr>\n",
              "    <tr>\n",
              "      <th>3</th>\n",
              "      <td>3</td>\n",
              "      <td>test/3.jpg</td>\n",
              "    </tr>\n",
              "    <tr>\n",
              "      <th>4</th>\n",
              "      <td>4</td>\n",
              "      <td>test/4.jpg</td>\n",
              "    </tr>\n",
              "    <tr>\n",
              "      <th>...</th>\n",
              "      <td>...</td>\n",
              "      <td>...</td>\n",
              "    </tr>\n",
              "    <tr>\n",
              "      <th>327</th>\n",
              "      <td>327</td>\n",
              "      <td>test/327.jpg</td>\n",
              "    </tr>\n",
              "    <tr>\n",
              "      <th>328</th>\n",
              "      <td>328</td>\n",
              "      <td>test/328.jpg</td>\n",
              "    </tr>\n",
              "    <tr>\n",
              "      <th>329</th>\n",
              "      <td>329</td>\n",
              "      <td>test/329.jpg</td>\n",
              "    </tr>\n",
              "    <tr>\n",
              "      <th>330</th>\n",
              "      <td>330</td>\n",
              "      <td>test/330.jpg</td>\n",
              "    </tr>\n",
              "    <tr>\n",
              "      <th>331</th>\n",
              "      <td>331</td>\n",
              "      <td>test/331.jpg</td>\n",
              "    </tr>\n",
              "  </tbody>\n",
              "</table>\n",
              "<p>332 rows × 2 columns</p>\n",
              "</div>"
            ],
            "text/plain": [
              "     file_id          path\n",
              "0          0    test/0.jpg\n",
              "1          1    test/1.jpg\n",
              "2          2    test/2.jpg\n",
              "3          3    test/3.jpg\n",
              "4          4    test/4.jpg\n",
              "..       ...           ...\n",
              "327      327  test/327.jpg\n",
              "328      328  test/328.jpg\n",
              "329      329  test/329.jpg\n",
              "330      330  test/330.jpg\n",
              "331      331  test/331.jpg\n",
              "\n",
              "[332 rows x 2 columns]"
            ]
          },
          "metadata": {
            "tags": []
          },
          "execution_count": 13
        }
      ]
    },
    {
      "cell_type": "code",
      "metadata": {
        "id": "pxMEiBBaii7z"
      },
      "source": [
        "image_file=\"train/6.jpg\""
      ],
      "execution_count": null,
      "outputs": []
    },
    {
      "cell_type": "code",
      "metadata": {
        "id": "p01JjIQefko5"
      },
      "source": [
        "image = tf.keras.preprocessing.image.load_img(image_file)"
      ],
      "execution_count": null,
      "outputs": []
    },
    {
      "cell_type": "code",
      "metadata": {
        "id": "P1J6y-dbin0E"
      },
      "source": [
        "image"
      ],
      "execution_count": null,
      "outputs": []
    },
    {
      "cell_type": "code",
      "metadata": {
        "id": "r24TNXoJqOZ4"
      },
      "source": [
        "image=tf.keras.preprocessing.image.load_img(\"test/3.jpg\")"
      ],
      "execution_count": null,
      "outputs": []
    },
    {
      "cell_type": "code",
      "metadata": {
        "id": "bmucK4umqeGI"
      },
      "source": [
        "image"
      ],
      "execution_count": null,
      "outputs": []
    },
    {
      "cell_type": "code",
      "metadata": {
        "id": "FutcYR3DwzkV"
      },
      "source": [
        "img_size=34"
      ],
      "execution_count": null,
      "outputs": []
    },
    {
      "cell_type": "code",
      "metadata": {
        "id": "OaZ-Y95_tX_n"
      },
      "source": [
        " image =  tf.keras.preprocessing.image.load_img(train_df[\"path\"][0],\n",
        "                                                                  target_size=(img_size, img_size))\n",
        "            #Convert to array\n",
        "image = tf.keras.preprocessing.image.img_to_array(image)\n",
        "            "
      ],
      "execution_count": null,
      "outputs": []
    },
    {
      "cell_type": "code",
      "metadata": {
        "colab": {
          "base_uri": "https://localhost:8080/"
        },
        "id": "TPoiyR3duZUa",
        "outputId": "dc6aae9a-a78b-4948-8907-4d2d645c4d1c"
      },
      "source": [
        "image"
      ],
      "execution_count": null,
      "outputs": [
        {
          "output_type": "execute_result",
          "data": {
            "text/plain": [
              "array([[[188., 190., 185.],\n",
              "        [204., 206., 203.],\n",
              "        [216., 220., 223.],\n",
              "        ...,\n",
              "        [ 32.,  32.,  30.],\n",
              "        [ 18.,  18.,  20.],\n",
              "        [ 16.,  17.,  19.]],\n",
              "\n",
              "       [[197., 199., 194.],\n",
              "        [213., 215., 212.],\n",
              "        [219., 223., 226.],\n",
              "        ...,\n",
              "        [ 26.,  22.,  21.],\n",
              "        [ 15.,  16.,  20.],\n",
              "        [ 12.,  16.,  19.]],\n",
              "\n",
              "       [[195., 197., 192.],\n",
              "        [219., 223., 224.],\n",
              "        [217., 221., 224.],\n",
              "        ...,\n",
              "        [ 24.,  23.,  21.],\n",
              "        [ 15.,  16.,  20.],\n",
              "        [ 10.,  15.,  18.]],\n",
              "\n",
              "       ...,\n",
              "\n",
              "       [[ 81.,  32.,  28.],\n",
              "        [ 78.,  30.,  26.],\n",
              "        [ 76.,  21.,  18.],\n",
              "        ...,\n",
              "        [ 95.,  37.,  26.],\n",
              "        [103.,  43.,  33.],\n",
              "        [ 85.,  27.,  16.]],\n",
              "\n",
              "       [[ 69.,  28.,  22.],\n",
              "        [ 82.,  29.,  23.],\n",
              "        [ 86.,  31.,  26.],\n",
              "        ...,\n",
              "        [ 78.,  26.,  15.],\n",
              "        [ 90.,  34.,  21.],\n",
              "        [ 83.,  33.,  22.]],\n",
              "\n",
              "       [[ 60.,  17.,  11.],\n",
              "        [ 80.,  26.,  24.],\n",
              "        [ 92.,  28.,  26.],\n",
              "        ...,\n",
              "        [115.,  63.,  50.],\n",
              "        [101.,  54.,  36.],\n",
              "        [101.,  54.,  38.]]], dtype=float32)"
            ]
          },
          "metadata": {
            "tags": []
          },
          "execution_count": 20
        }
      ]
    },
    {
      "cell_type": "code",
      "metadata": {
        "id": "XYr8fF0pptED"
      },
      "source": [
        "class_names=train[\"label\"].unique()"
      ],
      "execution_count": null,
      "outputs": []
    },
    {
      "cell_type": "code",
      "metadata": {
        "id": "6q53ScTUu42Z"
      },
      "source": [
        ""
      ],
      "execution_count": null,
      "outputs": []
    },
    {
      "cell_type": "code",
      "metadata": {
        "id": "WdkYaBP6qtuA"
      },
      "source": [
        "img_size=34\n",
        "img_depth=3"
      ],
      "execution_count": null,
      "outputs": []
    },
    {
      "cell_type": "code",
      "metadata": {
        "id": "O6BYX6_Ai2ar"
      },
      "source": [
        "def batch_generator(df, batchsize=32):   \n",
        "    \n",
        "    while True:       \n",
        "                \n",
        "        #Generate random numbers to pick images from dataset\n",
        "        batch_nums = np.random.randint(0,df.shape[0], batchsize)\n",
        "        \n",
        "        #Initialize batch images array\n",
        "        batch_images = np.zeros((batchsize,img_size, img_size,img_depth))\n",
        "        \n",
        "        #Initiate batch label array\n",
        "        batch_labels = np.zeros((batchsize, len(class_names)))\n",
        "        \n",
        "        for i in range(batchsize):\n",
        "            \n",
        "            #Load image\n",
        "            image =  tf.keras.preprocessing.image.load_img(df.loc[batch_nums[i]][\"path\"],\n",
        "                                                                  target_size=(img_size, img_size))\n",
        "            #Convert to array\n",
        "            image = tf.keras.preprocessing.image.img_to_array(image)\n",
        "            \n",
        "            #Get the class\n",
        "            img_class = df.loc[batch_nums[i]]['label']\n",
        "            #Convert class to one hot encoding\n",
        "            img_class = tf.keras.utils.to_categorical(img_class, num_classes=len(class_names))\n",
        "            \n",
        "            #Update batch images and class arrays\n",
        "            batch_images[i] = image\n",
        "            batch_labels[i] = img_class        \n",
        "        \n",
        "        yield batch_images, batch_labels"
      ],
      "execution_count": null,
      "outputs": []
    },
    {
      "cell_type": "code",
      "metadata": {
        "colab": {
          "base_uri": "https://localhost:8080/",
          "height": 419
        },
        "id": "24HkAfMYuJ-5",
        "outputId": "35c48b1d-8656-420c-b74f-3a9375ce870a"
      },
      "source": [
        "train_df"
      ],
      "execution_count": null,
      "outputs": [
        {
          "output_type": "execute_result",
          "data": {
            "text/html": [
              "<div>\n",
              "<style scoped>\n",
              "    .dataframe tbody tr th:only-of-type {\n",
              "        vertical-align: middle;\n",
              "    }\n",
              "\n",
              "    .dataframe tbody tr th {\n",
              "        vertical-align: top;\n",
              "    }\n",
              "\n",
              "    .dataframe thead th {\n",
              "        text-align: right;\n",
              "    }\n",
              "</style>\n",
              "<table border=\"1\" class=\"dataframe\">\n",
              "  <thead>\n",
              "    <tr style=\"text-align: right;\">\n",
              "      <th></th>\n",
              "      <th>file_id</th>\n",
              "      <th>label</th>\n",
              "      <th>path</th>\n",
              "    </tr>\n",
              "  </thead>\n",
              "  <tbody>\n",
              "    <tr>\n",
              "      <th>0</th>\n",
              "      <td>590</td>\n",
              "      <td>0</td>\n",
              "      <td>train/590.jpg</td>\n",
              "    </tr>\n",
              "    <tr>\n",
              "      <th>1</th>\n",
              "      <td>1160</td>\n",
              "      <td>1</td>\n",
              "      <td>train/1160.jpg</td>\n",
              "    </tr>\n",
              "    <tr>\n",
              "      <th>2</th>\n",
              "      <td>420</td>\n",
              "      <td>0</td>\n",
              "      <td>train/420.jpg</td>\n",
              "    </tr>\n",
              "    <tr>\n",
              "      <th>3</th>\n",
              "      <td>425</td>\n",
              "      <td>0</td>\n",
              "      <td>train/425.jpg</td>\n",
              "    </tr>\n",
              "    <tr>\n",
              "      <th>4</th>\n",
              "      <td>859</td>\n",
              "      <td>1</td>\n",
              "      <td>train/859.jpg</td>\n",
              "    </tr>\n",
              "    <tr>\n",
              "      <th>...</th>\n",
              "      <td>...</td>\n",
              "      <td>...</td>\n",
              "      <td>...</td>\n",
              "    </tr>\n",
              "    <tr>\n",
              "      <th>1362</th>\n",
              "      <td>1130</td>\n",
              "      <td>1</td>\n",
              "      <td>train/1130.jpg</td>\n",
              "    </tr>\n",
              "    <tr>\n",
              "      <th>1363</th>\n",
              "      <td>1294</td>\n",
              "      <td>1</td>\n",
              "      <td>train/1294.jpg</td>\n",
              "    </tr>\n",
              "    <tr>\n",
              "      <th>1364</th>\n",
              "      <td>860</td>\n",
              "      <td>1</td>\n",
              "      <td>train/860.jpg</td>\n",
              "    </tr>\n",
              "    <tr>\n",
              "      <th>1365</th>\n",
              "      <td>1459</td>\n",
              "      <td>1</td>\n",
              "      <td>train/1459.jpg</td>\n",
              "    </tr>\n",
              "    <tr>\n",
              "      <th>1366</th>\n",
              "      <td>1126</td>\n",
              "      <td>1</td>\n",
              "      <td>train/1126.jpg</td>\n",
              "    </tr>\n",
              "  </tbody>\n",
              "</table>\n",
              "<p>1367 rows × 3 columns</p>\n",
              "</div>"
            ],
            "text/plain": [
              "      file_id  label            path\n",
              "0         590      0   train/590.jpg\n",
              "1        1160      1  train/1160.jpg\n",
              "2         420      0   train/420.jpg\n",
              "3         425      0   train/425.jpg\n",
              "4         859      1   train/859.jpg\n",
              "...       ...    ...             ...\n",
              "1362     1130      1  train/1130.jpg\n",
              "1363     1294      1  train/1294.jpg\n",
              "1364      860      1   train/860.jpg\n",
              "1365     1459      1  train/1459.jpg\n",
              "1366     1126      1  train/1126.jpg\n",
              "\n",
              "[1367 rows x 3 columns]"
            ]
          },
          "metadata": {
            "tags": []
          },
          "execution_count": 21
        }
      ]
    },
    {
      "cell_type": "code",
      "metadata": {
        "colab": {
          "base_uri": "https://localhost:8080/",
          "height": 419
        },
        "id": "5QJS8snUvPvZ",
        "outputId": "d4285530-392d-4430-c148-63e710202688"
      },
      "source": [
        "test_df"
      ],
      "execution_count": null,
      "outputs": [
        {
          "output_type": "execute_result",
          "data": {
            "text/html": [
              "<div>\n",
              "<style scoped>\n",
              "    .dataframe tbody tr th:only-of-type {\n",
              "        vertical-align: middle;\n",
              "    }\n",
              "\n",
              "    .dataframe tbody tr th {\n",
              "        vertical-align: top;\n",
              "    }\n",
              "\n",
              "    .dataframe thead th {\n",
              "        text-align: right;\n",
              "    }\n",
              "</style>\n",
              "<table border=\"1\" class=\"dataframe\">\n",
              "  <thead>\n",
              "    <tr style=\"text-align: right;\">\n",
              "      <th></th>\n",
              "      <th>file_id</th>\n",
              "      <th>label</th>\n",
              "      <th>path</th>\n",
              "    </tr>\n",
              "  </thead>\n",
              "  <tbody>\n",
              "    <tr>\n",
              "      <th>0</th>\n",
              "      <td>567</td>\n",
              "      <td>0</td>\n",
              "      <td>train/567.jpg</td>\n",
              "    </tr>\n",
              "    <tr>\n",
              "      <th>1</th>\n",
              "      <td>1326</td>\n",
              "      <td>1</td>\n",
              "      <td>train/1326.jpg</td>\n",
              "    </tr>\n",
              "    <tr>\n",
              "      <th>2</th>\n",
              "      <td>1061</td>\n",
              "      <td>1</td>\n",
              "      <td>train/1061.jpg</td>\n",
              "    </tr>\n",
              "    <tr>\n",
              "      <th>3</th>\n",
              "      <td>115</td>\n",
              "      <td>0</td>\n",
              "      <td>train/115.jpg</td>\n",
              "    </tr>\n",
              "    <tr>\n",
              "      <th>4</th>\n",
              "      <td>453</td>\n",
              "      <td>0</td>\n",
              "      <td>train/453.jpg</td>\n",
              "    </tr>\n",
              "    <tr>\n",
              "      <th>...</th>\n",
              "      <td>...</td>\n",
              "      <td>...</td>\n",
              "      <td>...</td>\n",
              "    </tr>\n",
              "    <tr>\n",
              "      <th>337</th>\n",
              "      <td>1205</td>\n",
              "      <td>1</td>\n",
              "      <td>train/1205.jpg</td>\n",
              "    </tr>\n",
              "    <tr>\n",
              "      <th>338</th>\n",
              "      <td>1111</td>\n",
              "      <td>1</td>\n",
              "      <td>train/1111.jpg</td>\n",
              "    </tr>\n",
              "    <tr>\n",
              "      <th>339</th>\n",
              "      <td>128</td>\n",
              "      <td>0</td>\n",
              "      <td>train/128.jpg</td>\n",
              "    </tr>\n",
              "    <tr>\n",
              "      <th>340</th>\n",
              "      <td>405</td>\n",
              "      <td>0</td>\n",
              "      <td>train/405.jpg</td>\n",
              "    </tr>\n",
              "    <tr>\n",
              "      <th>341</th>\n",
              "      <td>1040</td>\n",
              "      <td>1</td>\n",
              "      <td>train/1040.jpg</td>\n",
              "    </tr>\n",
              "  </tbody>\n",
              "</table>\n",
              "<p>342 rows × 3 columns</p>\n",
              "</div>"
            ],
            "text/plain": [
              "     file_id  label            path\n",
              "0        567      0   train/567.jpg\n",
              "1       1326      1  train/1326.jpg\n",
              "2       1061      1  train/1061.jpg\n",
              "3        115      0   train/115.jpg\n",
              "4        453      0   train/453.jpg\n",
              "..       ...    ...             ...\n",
              "337     1205      1  train/1205.jpg\n",
              "338     1111      1  train/1111.jpg\n",
              "339      128      0   train/128.jpg\n",
              "340      405      0   train/405.jpg\n",
              "341     1040      1  train/1040.jpg\n",
              "\n",
              "[342 rows x 3 columns]"
            ]
          },
          "metadata": {
            "tags": []
          },
          "execution_count": 22
        }
      ]
    },
    {
      "cell_type": "code",
      "metadata": {
        "id": "aOMyzXklpxfZ"
      },
      "source": [
        "from tensorflow.keras.applications.vgg16 import VGG16"
      ],
      "execution_count": null,
      "outputs": []
    },
    {
      "cell_type": "code",
      "metadata": {
        "id": "k10ArSi_q9rw"
      },
      "source": [
        "img_size=96\n",
        "img_depth=3"
      ],
      "execution_count": null,
      "outputs": []
    },
    {
      "cell_type": "code",
      "metadata": {
        "colab": {
          "base_uri": "https://localhost:8080/"
        },
        "id": "RcRdiKQD1n-u",
        "outputId": "91ac5881-2aad-4581-b826-3b69626b97cf"
      },
      "source": [
        "96*96*3"
      ],
      "execution_count": null,
      "outputs": [
        {
          "output_type": "execute_result",
          "data": {
            "text/plain": [
              "27648"
            ]
          },
          "metadata": {
            "tags": []
          },
          "execution_count": 25
        }
      ]
    },
    {
      "cell_type": "code",
      "metadata": {
        "id": "5cF9Noas2ZFj"
      },
      "source": [
        "from tensorflow.keras.applications import MobileNetV2\n",
        "from tensorflow.keras.layers import GlobalAveragePooling2D\n",
        "from tensorflow.keras.layers import BatchNormalization\n"
      ],
      "execution_count": null,
      "outputs": []
    },
    {
      "cell_type": "code",
      "metadata": {
        "id": "mh19wiRHTGxZ"
      },
      "source": [
        "from keras.layers import Conv2D , MaxPool2D , Flatten , MaxPooling2D"
      ],
      "execution_count": null,
      "outputs": []
    },
    {
      "cell_type": "code",
      "metadata": {
        "id": "Q3YP5OehlpNq",
        "colab": {
          "base_uri": "https://localhost:8080/"
        },
        "outputId": "970761d1-7d5b-43e8-f8ba-9e2ec224c36c"
      },
      "source": [
        "inceptionV3=tf.keras.applications.ResNet50 (input_shape=(96,96,3),\n",
        "    include_top=False\n",
        ")\n",
        "\n",
        "average_layer = GlobalAveragePooling2D()\n",
        "\n",
        "model = Sequential([\n",
        "    inceptionV3,Conv2D(filters=12,kernel_size=(5,5),padding='same',activation='relu',input_shape=(96,96,3)),\n",
        "    Conv2D(filters=24,kernel_size=(3,3),padding='same',activation='relu'),\n",
        "    MaxPooling2D(pool_size=(2,2)),\n",
        "    Dropout(0.2), Flatten(),\n",
        "    Dense(100, activation=tf.nn.relu),\n",
        "    Dense(152, activation=tf.nn.relu),\n",
        "    BatchNormalization(),\n",
        "    \n",
        "    Dense(2, activation=tf.nn.softmax)\n",
        "])"
      ],
      "execution_count": null,
      "outputs": [
        {
          "output_type": "stream",
          "text": [
            "Downloading data from https://storage.googleapis.com/tensorflow/keras-applications/resnet/resnet50_weights_tf_dim_ordering_tf_kernels_notop.h5\n",
            "94773248/94765736 [==============================] - 1s 0us/step\n"
          ],
          "name": "stdout"
        }
      ]
    },
    {
      "cell_type": "code",
      "metadata": {
        "id": "l0zjegAArHyy"
      },
      "source": [
        "model.compile(optimizer='adam', loss='categorical_crossentropy', metrics=['accuracy'])"
      ],
      "execution_count": null,
      "outputs": []
    },
    {
      "cell_type": "code",
      "metadata": {
        "id": "_-RLFgumEUBI"
      },
      "source": [
        "checkpoint_filepath='CNN last.epoch{epoch:02d}-loss{val_loss:.2f}.hdf5'\n",
        "model_checkpoint_callback = tf.keras.callbacks.ModelCheckpoint(\n",
        "    filepath=checkpoint_filepath,\n",
        "    save_weights_only=True,\n",
        "    monitor='val_accuracy',\n",
        "    mode='max',\n",
        "    save_best_only=True)"
      ],
      "execution_count": null,
      "outputs": []
    },
    {
      "cell_type": "code",
      "metadata": {
        "colab": {
          "base_uri": "https://localhost:8080/"
        },
        "id": "Cesa6VYqsqTZ",
        "outputId": "ee9d52fc-e7fd-4c60-e523-f03714b76f16"
      },
      "source": [
        "model.compile(optimizer='adam', loss='categorical_crossentropy', metrics=['accuracy'])\n",
        "model.fit_generator(train_generator, \n",
        "                          epochs=10,\n",
        "                          steps_per_epoch= train_df.shape[0]//batchsize,\n",
        "                          validation_data=test_generator,\n",
        "                          validation_steps = test_df.shape[0]//batchsize, callbacks=[model_checkpoint_callback])"
      ],
      "execution_count": null,
      "outputs": [
        {
          "output_type": "stream",
          "text": [
            "Epoch 1/10\n",
            "42/42 [==============================] - 699s 16s/step - loss: 0.8065 - accuracy: 0.4962 - val_loss: 2533.5796 - val_accuracy: 0.5437\n",
            "Epoch 2/10\n",
            "42/42 [==============================] - 284s 7s/step - loss: 0.7735 - accuracy: 0.5431 - val_loss: 94.9137 - val_accuracy: 0.4844\n",
            "Epoch 3/10\n",
            "42/42 [==============================] - 110s 3s/step - loss: 0.7170 - accuracy: 0.5104 - val_loss: 12.4036 - val_accuracy: 0.5250\n",
            "Epoch 4/10\n",
            "42/42 [==============================] - 54s 1s/step - loss: 0.7089 - accuracy: 0.5558 - val_loss: 11.1299 - val_accuracy: 0.5063\n",
            "Epoch 5/10\n",
            "42/42 [==============================] - 38s 913ms/step - loss: 0.7252 - accuracy: 0.5351 - val_loss: 1308.3274 - val_accuracy: 0.4812\n",
            "Epoch 6/10\n",
            "42/42 [==============================] - 28s 689ms/step - loss: 0.7172 - accuracy: 0.5670 - val_loss: 50.5786 - val_accuracy: 0.5406\n",
            "Epoch 7/10\n",
            "42/42 [==============================] - 28s 671ms/step - loss: 0.6936 - accuracy: 0.5535 - val_loss: 14.5481 - val_accuracy: 0.5031\n",
            "Epoch 8/10\n",
            "42/42 [==============================] - 26s 633ms/step - loss: 0.6952 - accuracy: 0.5716 - val_loss: 2.6643 - val_accuracy: 0.4750\n",
            "Epoch 9/10\n",
            "42/42 [==============================] - 26s 618ms/step - loss: 0.6947 - accuracy: 0.5785 - val_loss: 2.2700 - val_accuracy: 0.4781\n",
            "Epoch 10/10\n",
            "42/42 [==============================] - 26s 619ms/step - loss: 0.6947 - accuracy: 0.5704 - val_loss: 1.1580 - val_accuracy: 0.5656\n"
          ],
          "name": "stdout"
        },
        {
          "output_type": "execute_result",
          "data": {
            "text/plain": [
              "<tensorflow.python.keras.callbacks.History at 0x7fa40fc7f750>"
            ]
          },
          "metadata": {
            "tags": []
          },
          "execution_count": 37
        }
      ]
    },
    {
      "cell_type": "code",
      "metadata": {
        "id": "xzR1OZ59stUr"
      },
      "source": [
        "model.evaluate(test_generator)"
      ],
      "execution_count": null,
      "outputs": []
    },
    {
      "cell_type": "code",
      "metadata": {
        "id": "gMGgM95fstZZ"
      },
      "source": [
        "inceptionV3=tf.keras.applications.ResNet50 (input_shape=(64,64,3),\n",
        "    include_top=False\n",
        ")\n",
        "\n",
        "average_layer = GlobalAveragePooling2D()\n",
        "\n",
        "model1 = Sequential([\n",
        "    inceptionV3,Conv2D(filters=11,kernel_size=(5,5),padding='same',activation='relu',input_shape=(64,64,3)),\n",
        "    Conv2D(filters=3,kernel_size=(5,5),padding='same',activation='relu'),\n",
        "    MaxPooling2D(pool_size=(1,1)),\n",
        "    Dropout(0.3), Flatten(),\n",
        "    Dense(30, activation=tf.nn.relu),\n",
        "    Dense(19, activation=tf.nn.relu),\n",
        "    BatchNormalization(),\n",
        "    \n",
        "    Dense(2, activation=tf.nn.softmax)\n",
        "])"
      ],
      "execution_count": null,
      "outputs": []
    },
    {
      "cell_type": "code",
      "metadata": {
        "id": "LS5H7nucstf6"
      },
      "source": [
        "model1.load_weights('/content/drive/MyDrive/5000-10000/resnet-2-50.h5','/content/drive/MyDrive/5000-10000/resnet50-50.h5')\n"
      ],
      "execution_count": null,
      "outputs": []
    },
    {
      "cell_type": "code",
      "metadata": {
        "id": "cpqNJOV_stkt"
      },
      "source": [
        "model1.compile(optimizer=tf.keras.optimizers.Adam(lr=0.001), loss='sparse_categorical_crossentropy', metrics=['accuracy'])\n",
        "model1.fit_generator(train_generator, \n",
        "                          epochs=10,\n",
        "                          steps_per_epoch= train_df.shape[0]//batchsize,\n",
        "                          validation_data=test_generator,\n",
        "                          validation_steps = test_df.shape[0]//batchsize, callbacks=[model_checkpoint_callback])"
      ],
      "execution_count": null,
      "outputs": []
    },
    {
      "cell_type": "code",
      "metadata": {
        "id": "NKAYZlXASXy6"
      },
      "source": [
        "model1.evaluate(test_generator)"
      ],
      "execution_count": null,
      "outputs": []
    },
    {
      "cell_type": "code",
      "metadata": {
        "id": "CdW1KNH4SYXi",
        "colab": {
          "base_uri": "https://localhost:8080/"
        },
        "outputId": "63ee67b2-3b3f-4949-e0eb-75c5d134ac2d"
      },
      "source": [
        "inceptionV3=tf.keras.applications.DenseNet201 (input_shape=(96,96,3),\n",
        "    include_top=False\n",
        ")\n",
        "\n",
        "average_layer = GlobalAveragePooling2D()\n",
        "\n",
        "model1 = Sequential([\n",
        "    inceptionV3,Conv2D(filters=30,kernel_size=(5,5),padding='same',activation='relu',input_shape=(32,32,3)),\n",
        "    Conv2D(filters=70,kernel_size=(2,2),padding='same',activation='relu'),\n",
        "    average_layer,\n",
        "    Dropout(0.2), Flatten(),\n",
        "    Dense(350, activation=tf.nn.relu),\n",
        "    Dense(75, activation=tf.nn.relu),\n",
        "    \n",
        "    \n",
        "    Dense(2, activation=tf.nn.softmax)\n",
        "])"
      ],
      "execution_count": null,
      "outputs": [
        {
          "output_type": "stream",
          "text": [
            "Downloading data from https://storage.googleapis.com/tensorflow/keras-applications/densenet/densenet201_weights_tf_dim_ordering_tf_kernels_notop.h5\n",
            "74842112/74836368 [==============================] - 3s 0us/step\n"
          ],
          "name": "stdout"
        }
      ]
    },
    {
      "cell_type": "code",
      "metadata": {
        "id": "jdpU9XoH8275"
      },
      "source": [
        "m"
      ],
      "execution_count": null,
      "outputs": []
    },
    {
      "cell_type": "code",
      "metadata": {
        "id": "KIe9xWCpAt9U"
      },
      "source": [
        "\n",
        "callback = tf.keras.callbacks.EarlyStopping(monitor='val_accuracy', patience=2, min_delta=0.001)"
      ],
      "execution_count": null,
      "outputs": []
    },
    {
      "cell_type": "code",
      "metadata": {
        "colab": {
          "base_uri": "https://localhost:8080/"
        },
        "id": "iwEgM2TvZcwb",
        "outputId": "946350f5-1b76-4601-fe22-a899cfaa6a4e"
      },
      "source": [
        "model1.compile(optimizer='sgd', loss='mean_squared_error', metrics=['accuracy'])\n",
        "model1.fit_generator(train_generator, \n",
        "                          epochs=10,\n",
        "                          steps_per_epoch= train_df.shape[0]//batchsize,\n",
        "                          validation_data=test_generator,\n",
        "                          validation_steps = test_df.shape[0]//batchsize, callbacks=[model_checkpoint_callback])"
      ],
      "execution_count": null,
      "outputs": [
        {
          "output_type": "stream",
          "text": [
            "Epoch 1/10\n",
            "42/42 [==============================] - 51s 766ms/step - loss: 0.2431 - accuracy: 0.5562 - val_loss: 0.2458 - val_accuracy: 0.5719\n",
            "Epoch 2/10\n",
            "42/42 [==============================] - 28s 675ms/step - loss: 0.2361 - accuracy: 0.5984 - val_loss: 0.2409 - val_accuracy: 0.5688\n",
            "Epoch 3/10\n",
            "42/42 [==============================] - 28s 681ms/step - loss: 0.2187 - accuracy: 0.6618 - val_loss: 0.2253 - val_accuracy: 0.6031\n",
            "Epoch 4/10\n",
            "42/42 [==============================] - 28s 678ms/step - loss: 0.2059 - accuracy: 0.6971 - val_loss: 0.2441 - val_accuracy: 0.5750\n",
            "Epoch 5/10\n",
            "42/42 [==============================] - 28s 671ms/step - loss: 0.1660 - accuracy: 0.7864 - val_loss: 0.2376 - val_accuracy: 0.6469\n",
            "Epoch 6/10\n",
            "42/42 [==============================] - 28s 683ms/step - loss: 0.1264 - accuracy: 0.8462 - val_loss: 0.2406 - val_accuracy: 0.6187\n",
            "Epoch 7/10\n",
            "42/42 [==============================] - 28s 671ms/step - loss: 0.0743 - accuracy: 0.9183 - val_loss: 0.2496 - val_accuracy: 0.6594\n",
            "Epoch 8/10\n",
            "42/42 [==============================] - 28s 676ms/step - loss: 0.0412 - accuracy: 0.9615 - val_loss: 0.2489 - val_accuracy: 0.6531\n",
            "Epoch 9/10\n",
            "42/42 [==============================] - 28s 670ms/step - loss: 0.0294 - accuracy: 0.9715 - val_loss: 0.2856 - val_accuracy: 0.6344\n",
            "Epoch 10/10\n",
            "42/42 [==============================] - 28s 685ms/step - loss: 0.0153 - accuracy: 0.9926 - val_loss: 0.3059 - val_accuracy: 0.6000\n"
          ],
          "name": "stdout"
        },
        {
          "output_type": "execute_result",
          "data": {
            "text/plain": [
              "<tensorflow.python.keras.callbacks.History at 0x7fa3a2a15c90>"
            ]
          },
          "metadata": {
            "tags": []
          },
          "execution_count": 45
        }
      ]
    },
    {
      "cell_type": "code",
      "metadata": {
        "id": "tt_wur3VMrqB"
      },
      "source": [
        "checkpoint_filepath='CNN last.epoch{epoch:02d}-loss{val_loss:.2f}.hdf5'\n",
        "model_checkpoint_callback = tf.keras.callbacks.ModelCheckpoint(\n",
        "    filepath=checkpoint_filepath,\n",
        "    save_weights_only=True,\n",
        "    monitor='val_accuracy',\n",
        "    mode='max',\n",
        "    save_best_only=True)"
      ],
      "execution_count": null,
      "outputs": []
    },
    {
      "cell_type": "code",
      "metadata": {
        "id": "soK2BRlZZdBX"
      },
      "source": [
        "model1.evaluate(test_generator)  "
      ],
      "execution_count": null,
      "outputs": []
    },
    {
      "cell_type": "code",
      "metadata": {
        "id": "_UEFQ8mU1TZk"
      },
      "source": [
        "#final model"
      ],
      "execution_count": null,
      "outputs": []
    },
    {
      "cell_type": "code",
      "metadata": {
        "id": "n-CdfHEvSYiV"
      },
      "source": [
        "bs = 64\n",
        "row, col = 224, 224\n",
        "train_datagen = ImageDataGenerator(rescale=1./255,\n",
        "                                   horizontal_flip=True\n",
        "                                  )\n"
      ],
      "execution_count": null,
      "outputs": []
    },
    {
      "cell_type": "code",
      "metadata": {
        "id": "MbiB8ZJmSZMS",
        "colab": {
          "base_uri": "https://localhost:8080/"
        },
        "outputId": "ccdcd011-5a8a-4421-cc2a-738a33367b22"
      },
      "source": [
        "training_set = train_datagen.flow_from_directory('/content/drive/MyDrive/dl hackaton/train1',\n",
        "                                                 class_mode='binary',\n",
        "                                                 shuffle=True,\n",
        "                                                 target_size=(row,col),\n",
        "                                                 batch_size=bs\n",
        "                                                )"
      ],
      "execution_count": null,
      "outputs": [
        {
          "output_type": "stream",
          "text": [
            "Found 1709 images belonging to 2 classes.\n"
          ],
          "name": "stdout"
        }
      ]
    },
    {
      "cell_type": "code",
      "metadata": {
        "id": "e1LPHCIcSZfa"
      },
      "source": [
        "val_test_datagen = ImageDataGenerator(rescale=1./255)"
      ],
      "execution_count": null,
      "outputs": []
    },
    {
      "cell_type": "code",
      "metadata": {
        "colab": {
          "base_uri": "https://localhost:8080/"
        },
        "id": "OnxsNU0edI1Z",
        "outputId": "ed2e0fc8-0858-4688-aecf-21a0bdb5ef59"
      },
      "source": [
        "test_set = val_test_datagen.flow_from_directory('/content/drive/MyDrive/dl hackaton/new test',\n",
        "                                                class_mode='binary',\n",
        "                                                shuffle=True,\n",
        "                                                target_size=(row,col),\n",
        "                                                batch_size=bs\n",
        "                                               )"
      ],
      "execution_count": null,
      "outputs": [
        {
          "output_type": "stream",
          "text": [
            "Found 332 images belonging to 1 classes.\n"
          ],
          "name": "stdout"
        }
      ]
    },
    {
      "cell_type": "code",
      "metadata": {
        "colab": {
          "base_uri": "https://localhost:8080/"
        },
        "id": "hhA9V87KeOcm",
        "outputId": "4f142dac-86a2-4b8c-d50d-7da268cbaa44"
      },
      "source": [
        "validation_set = val_test_datagen.flow_from_directory('/content/drive/MyDrive/dl hackaton/new test',\n",
        "                                                      class_mode='binary',\n",
        "                                                      shuffle=True,\n",
        "                                                      target_size=(row,col),\n",
        "                                                      batch_size=bs\n",
        "                                                     ) "
      ],
      "execution_count": null,
      "outputs": [
        {
          "output_type": "stream",
          "text": [
            "Found 332 images belonging to 1 classes.\n"
          ],
          "name": "stdout"
        }
      ]
    },
    {
      "cell_type": "code",
      "metadata": {
        "colab": {
          "base_uri": "https://localhost:8080/"
        },
        "id": "XMwVaVWidI8c",
        "outputId": "bdcebb6f-b9e5-4c34-ab8a-3c4a85f20f78"
      },
      "source": [
        "training_set.class_indices"
      ],
      "execution_count": null,
      "outputs": [
        {
          "output_type": "execute_result",
          "data": {
            "text/plain": [
              "{'training_fake': 0, 'training_real': 1}"
            ]
          },
          "metadata": {
            "tags": []
          },
          "execution_count": 62
        }
      ]
    },
    {
      "cell_type": "code",
      "metadata": {
        "id": "u9WOWfrmdJCp"
      },
      "source": [
        "from tensorflow.keras.applications import DenseNet121\n",
        "def get_model():\n",
        "    densenet = DenseNet121(weights='imagenet',\n",
        "                           include_top=False,\n",
        "                           input_shape=(224,224,3)\n",
        "                          )\n",
        "    model = tf.keras.models.Sequential([densenet,\n",
        "                                        GlobalAveragePooling2D(),\n",
        "                                        Dense(512, activation='relu'),\n",
        "                                        BatchNormalization(),\n",
        "                                        Dropout(0.3),\n",
        "                                        Dense(1, activation='softmax')\n",
        "                                      ])\n",
        "    model.compile(optimizer=Adam(lr=0.001),\n",
        "                loss='binary_crossentropy',\n",
        "                metrics=['accuracy']\n",
        "                )\n",
        "\n",
        "    return model\n",
        "\n",
        "densenet1214 = get_model()"
      ],
      "execution_count": null,
      "outputs": []
    },
    {
      "cell_type": "code",
      "metadata": {
        "id": "z10uJspkdJIB"
      },
      "source": [
        "checkpoint = ModelCheckpoint(filepath='densenet1214.h5',\n",
        "                             save_best_only=True,\n",
        "                             verbose=1,\n",
        "                             mode='min',\n",
        "                             moniter='val_loss'\n",
        "                            )\n",
        "reduce_lr = ReduceLROnPlateau(monitor='val_loss', \n",
        "                              factor=0.2, \n",
        "                              patience=3, \n",
        "                              verbose=1, \n",
        "                              min_delta=0.0001\n",
        "                             )\n",
        "csv_logger = CSVLogger('training.log')\n",
        "\n",
        "callbacks = [checkpoint, reduce_lr, csv_logger]"
      ],
      "execution_count": null,
      "outputs": []
    },
    {
      "cell_type": "code",
      "metadata": {
        "colab": {
          "base_uri": "https://localhost:8080/"
        },
        "id": "dZUBYbnvdJMG",
        "outputId": "e8813892-0f0b-40f6-9e2a-efc7f76362dd"
      },
      "source": [
        "steps_per_epoch = training_set.n // training_set.batch_size\n",
        "validation_steps = validation_set.n // validation_set.batch_size\n",
        "\n",
        "hist = densenet1214.fit(training_set,\n",
        "                    validation_data=validation_set,\n",
        "                    callbacks=callbacks,\n",
        "                    steps_per_epoch=steps_per_epoch,\n",
        "                    validation_steps=validation_steps,\n",
        "                    epochs=4\n",
        "                   )"
      ],
      "execution_count": null,
      "outputs": [
        {
          "output_type": "stream",
          "text": [
            "Epoch 1/4\n",
            "26/26 [==============================] - 57s 2s/step - loss: 0.9389 - accuracy: 0.5469 - val_loss: 15.9348 - val_accuracy: 0.0000e+00\n",
            "\n",
            "Epoch 00001: val_loss improved from inf to 15.93484, saving model to densenet1214.h5\n",
            "Epoch 2/4\n",
            "26/26 [==============================] - 40s 2s/step - loss: 0.7194 - accuracy: 0.5319 - val_loss: 2.6095 - val_accuracy: 0.0000e+00\n",
            "\n",
            "Epoch 00002: val_loss improved from 15.93484 to 2.60952, saving model to densenet1214.h5\n",
            "Epoch 3/4\n",
            "26/26 [==============================] - 40s 1s/step - loss: 0.6730 - accuracy: 0.5515 - val_loss: 31.1184 - val_accuracy: 0.0000e+00\n",
            "\n",
            "Epoch 00003: val_loss did not improve from 2.60952\n",
            "Epoch 4/4\n",
            "26/26 [==============================] - 40s 1s/step - loss: 0.5809 - accuracy: 0.5494 - val_loss: 0.0250 - val_accuracy: 0.0000e+00\n",
            "\n",
            "Epoch 00004: val_loss improved from 2.60952 to 0.02503, saving model to densenet1214.h5\n"
          ],
          "name": "stdout"
        }
      ]
    },
    {
      "cell_type": "code",
      "metadata": {
        "colab": {
          "base_uri": "https://localhost:8080/"
        },
        "id": "kMQM8Njz-LMh",
        "outputId": "4ebdff34-cba2-4342-9ff6-5359c3c98d88"
      },
      "source": [
        "_, accu = densenet121.evaluate(test_set)\n",
        "print('Final Test Acccuracy = {:.3f}'.format(accu*100))"
      ],
      "execution_count": null,
      "outputs": [
        {
          "output_type": "stream",
          "text": [
            "6/6 [==============================] - 5s 770ms/step - loss: 1.6393 - accuracy: 0.4398\n",
            "Final Test Acccuracy = 43.976\n"
          ],
          "name": "stdout"
        }
      ]
    },
    {
      "cell_type": "code",
      "metadata": {
        "colab": {
          "base_uri": "https://localhost:8080/"
        },
        "id": "Fiji6BKyiBX4",
        "outputId": "2322948c-c4ac-4d61-8938-c24f21b8a32a"
      },
      "source": [
        "steps_per_epoch = training_set.n // training_set.batch_size\n",
        "validation_steps = validation_set.n // validation_set.batch_size\n",
        "\n",
        "hist = densenet1214.fit(training_set,\n",
        "                    validation_data=validation_set,\n",
        "                    callbacks=callbacks,\n",
        "                    steps_per_epoch=steps_per_epoch,\n",
        "                    validation_steps=validation_steps,\n",
        "                    epochs=10\n",
        "                   )"
      ],
      "execution_count": null,
      "outputs": [
        {
          "output_type": "stream",
          "text": [
            "Epoch 1/10\n",
            "26/26 [==============================] - 40s 2s/step - loss: 0.5194 - accuracy: 0.7508 - val_loss: 1.2372 - val_accuracy: 0.7406\n",
            "\n",
            "Epoch 00001: val_loss did not improve from 0.00000\n",
            "Epoch 2/10\n",
            "26/26 [==============================] - 40s 1s/step - loss: 0.4435 - accuracy: 0.8030 - val_loss: 0.4756 - val_accuracy: 0.7031\n",
            "\n",
            "Epoch 00002: val_loss did not improve from 0.00000\n",
            "Epoch 3/10\n",
            "26/26 [==============================] - 40s 1s/step - loss: 0.3764 - accuracy: 0.8359 - val_loss: 0.8801 - val_accuracy: 0.4656\n",
            "\n",
            "Epoch 00003: val_loss did not improve from 0.00000\n",
            "Epoch 4/10\n",
            "26/26 [==============================] - 40s 2s/step - loss: 0.3234 - accuracy: 0.8708 - val_loss: 0.7388 - val_accuracy: 0.5750\n",
            "\n",
            "Epoch 00004: val_loss did not improve from 0.00000\n",
            "Epoch 5/10\n",
            "26/26 [==============================] - 40s 1s/step - loss: 0.2702 - accuracy: 0.8881 - val_loss: 0.9500 - val_accuracy: 0.4750\n",
            "\n",
            "Epoch 00005: val_loss did not improve from 0.00000\n",
            "\n",
            "Epoch 00005: ReduceLROnPlateau reducing learning rate to 4.0000001899898055e-05.\n",
            "Epoch 6/10\n",
            "26/26 [==============================] - 39s 1s/step - loss: 0.1860 - accuracy: 0.9325 - val_loss: 1.2676 - val_accuracy: 0.4062\n",
            "\n",
            "Epoch 00006: val_loss did not improve from 0.00000\n",
            "Epoch 7/10\n",
            "26/26 [==============================] - 39s 1s/step - loss: 0.1443 - accuracy: 0.9514 - val_loss: 1.1725 - val_accuracy: 0.4875\n",
            "\n",
            "Epoch 00007: val_loss did not improve from 0.00000\n",
            "Epoch 8/10\n",
            "26/26 [==============================] - 39s 1s/step - loss: 0.1302 - accuracy: 0.9599 - val_loss: 1.5612 - val_accuracy: 0.3812\n",
            "\n",
            "Epoch 00008: val_loss did not improve from 0.00000\n",
            "\n",
            "Epoch 00008: ReduceLROnPlateau reducing learning rate to 8.000000525498762e-06.\n",
            "Epoch 9/10\n",
            "26/26 [==============================] - 40s 2s/step - loss: 0.1004 - accuracy: 0.9730 - val_loss: 1.6894 - val_accuracy: 0.3812\n",
            "\n",
            "Epoch 00009: val_loss did not improve from 0.00000\n",
            "Epoch 10/10\n",
            "26/26 [==============================] - 40s 1s/step - loss: 0.0839 - accuracy: 0.9751 - val_loss: 1.7077 - val_accuracy: 0.3906\n",
            "\n",
            "Epoch 00010: val_loss did not improve from 0.00000\n"
          ],
          "name": "stdout"
        }
      ]
    },
    {
      "cell_type": "code",
      "metadata": {
        "colab": {
          "base_uri": "https://localhost:8080/"
        },
        "id": "IQpIsT7yd61Z",
        "outputId": "94d5a660-2c5d-4a38-a120-4010c01067f7"
      },
      "source": [
        "_, accu = densenet121.evaluate(test_set)\n",
        "print('Final Test Acccuracy = {:.3f}'.format(accu*100))"
      ],
      "execution_count": null,
      "outputs": [
        {
          "output_type": "stream",
          "text": [
            "6/6 [==============================] - 5s 758ms/step - loss: 1.6393 - accuracy: 0.4398\n",
            "Final Test Acccuracy = 43.976\n"
          ],
          "name": "stdout"
        }
      ]
    },
    {
      "cell_type": "code",
      "metadata": {
        "colab": {
          "base_uri": "https://localhost:8080/"
        },
        "id": "xHcMJ0ueKJza",
        "outputId": "ae9bf0e9-a6a9-4110-db0f-0c93a2df60df"
      },
      "source": [
        "steps_per_epoch = training_set.n // training_set.batch_size\n",
        "validation_steps = validation_set.n // validation_set.batch_size\n",
        "\n",
        "hist = densenet121.fit(training_set,\n",
        "                    validation_data=validation_set,\n",
        "                    callbacks=callbacks,\n",
        "                    steps_per_epoch=steps_per_epoch,\n",
        "                    validation_steps=validation_steps,\n",
        "                    epochs=4\n",
        "                   )"
      ],
      "execution_count": null,
      "outputs": [
        {
          "output_type": "stream",
          "text": [
            "Epoch 1/4\n",
            "26/26 [==============================] - 40s 2s/step - loss: 0.1247 - accuracy: 0.9647 - val_loss: 1.5966 - val_accuracy: 0.4469\n",
            "\n",
            "Epoch 00001: val_loss did not improve from 0.00162\n",
            "Epoch 2/4\n",
            "26/26 [==============================] - 39s 1s/step - loss: 0.1242 - accuracy: 0.9629 - val_loss: 1.6472 - val_accuracy: 0.4469\n",
            "\n",
            "Epoch 00002: val_loss did not improve from 0.00162\n",
            "Epoch 3/4\n",
            "26/26 [==============================] - 39s 1s/step - loss: 0.1140 - accuracy: 0.9666 - val_loss: 1.6182 - val_accuracy: 0.4469\n",
            "\n",
            "Epoch 00003: val_loss did not improve from 0.00162\n",
            "Epoch 4/4\n",
            "26/26 [==============================] - 39s 1s/step - loss: 0.1321 - accuracy: 0.9581 - val_loss: 1.6601 - val_accuracy: 0.4406\n",
            "\n",
            "Epoch 00004: val_loss did not improve from 0.00162\n",
            "\n",
            "Epoch 00004: ReduceLROnPlateau reducing learning rate to 1.0240001069306004e-10.\n"
          ],
          "name": "stdout"
        }
      ]
    },
    {
      "cell_type": "code",
      "metadata": {
        "colab": {
          "base_uri": "https://localhost:8080/"
        },
        "id": "hhySvwlpKKWx",
        "outputId": "490ea947-f4dd-422e-df45-3e99f2c352bd"
      },
      "source": [
        "_, accu = densenet121.evaluate(test_set)\n",
        "print('Final Test Acccuracy = {:.3f}'.format(accu*100))"
      ],
      "execution_count": null,
      "outputs": [
        {
          "output_type": "stream",
          "text": [
            "6/6 [==============================] - 5s 763ms/step - loss: 1.6393 - accuracy: 0.4398\n",
            "Final Test Acccuracy = 43.976\n"
          ],
          "name": "stdout"
        }
      ]
    },
    {
      "cell_type": "code",
      "metadata": {
        "id": "A69wgh6wKKaL"
      },
      "source": [
        ""
      ],
      "execution_count": null,
      "outputs": []
    },
    {
      "cell_type": "code",
      "metadata": {
        "id": "bPwHy02rKKe-"
      },
      "source": [
        ""
      ],
      "execution_count": null,
      "outputs": []
    },
    {
      "cell_type": "code",
      "metadata": {
        "id": "I73xyvP70Ou-"
      },
      "source": [
        "batchsize=32\n",
        "train_generator=batch_generator(train_df,batchsize=batchsize)\n",
        "test_generator=batch_generator(test_df,batchsize=batchsize)"
      ],
      "execution_count": null,
      "outputs": []
    },
    {
      "cell_type": "code",
      "metadata": {
        "id": "7Ek6rmEA0O0b"
      },
      "source": [
        "import warnings\n",
        "warnings.filterwarnings('ignore')"
      ],
      "execution_count": null,
      "outputs": []
    },
    {
      "cell_type": "code",
      "metadata": {
        "id": "nUVMvlHj0PDq"
      },
      "source": [
        "model.fit_generator(train_generator, \n",
        "                          epochs=10,\n",
        "                          steps_per_epoch= train_df.shape[0]//batchsize,\n",
        "                          validation_data=test_generator,\n",
        "                          validation_steps = test_df.shape[0]//batchsize, callbacks=[model_checkpoint_callback])"
      ],
      "execution_count": null,
      "outputs": []
    },
    {
      "cell_type": "code",
      "metadata": {
        "id": "PlCIY795kkhV"
      },
      "source": [
        "model.evaluate(test_generator)"
      ],
      "execution_count": null,
      "outputs": []
    },
    {
      "cell_type": "code",
      "metadata": {
        "id": "ptMz6HALuv8r"
      },
      "source": [
        "\n",
        "from keras.models import Sequential \n",
        "from keras.layers import Conv2D,MaxPool2D,Flatten,Dense,Dropout, MaxPool2D\n",
        "from keras.preprocessing.image import ImageDataGenerator"
      ],
      "execution_count": null,
      "outputs": []
    },
    {
      "cell_type": "code",
      "metadata": {
        "id": "pJ2hyhKorci6"
      },
      "source": [
        "model.summary()"
      ],
      "execution_count": null,
      "outputs": []
    },
    {
      "cell_type": "code",
      "metadata": {
        "id": "vMQvgDcZw_8L"
      },
      "source": [
        "train_df"
      ],
      "execution_count": null,
      "outputs": []
    },
    {
      "cell_type": "code",
      "metadata": {
        "id": "Uh7YOIXirlZv"
      },
      "source": [
        "batchsize=32\n",
        "train_generator=batch_generator(train_df,batchsize=batchsize)\n",
        "test_generator=batch_generator(test_df,batchsize=batchsize)"
      ],
      "execution_count": null,
      "outputs": []
    },
    {
      "cell_type": "code",
      "metadata": {
        "id": "43A0XUN80tWA"
      },
      "source": [
        "from keras.models import load_model\n",
        "model=model.load_weights(\"batch16.h5\")"
      ],
      "execution_count": null,
      "outputs": []
    },
    {
      "cell_type": "code",
      "metadata": {
        "id": "fo2bhFswHM-F"
      },
      "source": [
        "model.load_weights(\"CNN last.epoch23-loss13.83.hdf5\")"
      ],
      "execution_count": null,
      "outputs": []
    },
    {
      "cell_type": "code",
      "metadata": {
        "id": "rIYVRUMQybeK"
      },
      "source": [
        "def testproc(df):\n",
        "  t=pd.DataFrame()\n",
        "  for i in range(len(test)):\n",
        "            \n",
        "            #Load image\n",
        "            image =  tf.keras.preprocessing.image.load_img(df.loc[i][\"path\"],\n",
        "                                                                  target_size=(img_size, img_size,3))\n",
        "            #Convert to array\n",
        "            image = tf.keras.preprocessing.image.img_to_array(image)\n",
        "            t=t.append(image)\n",
        "  return t\n",
        "            "
      ],
      "execution_count": null,
      "outputs": []
    },
    {
      "cell_type": "code",
      "metadata": {
        "id": "sQuqcA44zqKy"
      },
      "source": [
        "t=pd.DataFrame()\n",
        "l=[]\n",
        "for i in range(len(test)):\n",
        "          \n",
        "            #Load image\n",
        "          image =  tf.keras.preprocessing.image.load_img(test.loc[i][\"path\"],\n",
        "                                                                  target_size=(64, 64,3))\n",
        "            #Convert to array\n",
        "\n",
        "          image = tf.keras.preprocessing.image.img_to_array(image)\n",
        "          image = np.expand_dims(image, axis = 0)\n",
        "          l.append(np.argmax(model1.predict(image)))"
      ],
      "execution_count": null,
      "outputs": []
    },
    {
      "cell_type": "code",
      "metadata": {
        "colab": {
          "base_uri": "https://localhost:8080/"
        },
        "id": "xOCQ1otw-quw",
        "outputId": "e3ffe622-24e7-40ef-bda6-75474525080c"
      },
      "source": [
        "len(l)"
      ],
      "execution_count": null,
      "outputs": [
        {
          "output_type": "execute_result",
          "data": {
            "text/plain": [
              "332"
            ]
          },
          "metadata": {
            "tags": []
          },
          "execution_count": 70
        }
      ]
    },
    {
      "cell_type": "code",
      "metadata": {
        "id": "4QqdUM1Mzd1G"
      },
      "source": [
        "test"
      ],
      "execution_count": null,
      "outputs": []
    },
    {
      "cell_type": "code",
      "metadata": {
        "id": "cOPOTt94-1Ga"
      },
      "source": [
        "sub=pd.read_csv(\"sample_submission.csv\")\n",
        "sub[\"label\"]=l\n",
        "sub.to_csv(\"sub117.csv\",index=False)"
      ],
      "execution_count": null,
      "outputs": []
    },
    {
      "cell_type": "code",
      "metadata": {
        "colab": {
          "base_uri": "https://localhost:8080/",
          "height": 17
        },
        "id": "OrVyNTt6jwGP",
        "outputId": "ff3d2e18-46ce-4b31-9c60-7f652dc91e3e"
      },
      "source": [
        "files.download('sub117.csv')"
      ],
      "execution_count": null,
      "outputs": [
        {
          "output_type": "display_data",
          "data": {
            "application/javascript": [
              "\n",
              "    async function download(id, filename, size) {\n",
              "      if (!google.colab.kernel.accessAllowed) {\n",
              "        return;\n",
              "      }\n",
              "      const div = document.createElement('div');\n",
              "      const label = document.createElement('label');\n",
              "      label.textContent = `Downloading \"${filename}\": `;\n",
              "      div.appendChild(label);\n",
              "      const progress = document.createElement('progress');\n",
              "      progress.max = size;\n",
              "      div.appendChild(progress);\n",
              "      document.body.appendChild(div);\n",
              "\n",
              "      const buffers = [];\n",
              "      let downloaded = 0;\n",
              "\n",
              "      const channel = await google.colab.kernel.comms.open(id);\n",
              "      // Send a message to notify the kernel that we're ready.\n",
              "      channel.send({})\n",
              "\n",
              "      for await (const message of channel.messages) {\n",
              "        // Send a message to notify the kernel that we're ready.\n",
              "        channel.send({})\n",
              "        if (message.buffers) {\n",
              "          for (const buffer of message.buffers) {\n",
              "            buffers.push(buffer);\n",
              "            downloaded += buffer.byteLength;\n",
              "            progress.value = downloaded;\n",
              "          }\n",
              "        }\n",
              "      }\n",
              "      const blob = new Blob(buffers, {type: 'application/binary'});\n",
              "      const a = document.createElement('a');\n",
              "      a.href = window.URL.createObjectURL(blob);\n",
              "      a.download = filename;\n",
              "      div.appendChild(a);\n",
              "      a.click();\n",
              "      div.remove();\n",
              "    }\n",
              "  "
            ],
            "text/plain": [
              "<IPython.core.display.Javascript object>"
            ]
          },
          "metadata": {
            "tags": []
          }
        },
        {
          "output_type": "display_data",
          "data": {
            "application/javascript": [
              "download(\"download_02c3c62d-8ae3-4e17-9a01-b38c01a0f59c\", \"sub117.csv\", 1896)"
            ],
            "text/plain": [
              "<IPython.core.display.Javascript object>"
            ]
          },
          "metadata": {
            "tags": []
          }
        }
      ]
    },
    {
      "cell_type": "code",
      "metadata": {
        "id": "poDCSkqkg38p"
      },
      "source": [
        "from google.colab import files"
      ],
      "execution_count": null,
      "outputs": []
    },
    {
      "cell_type": "code",
      "metadata": {
        "id": "uX8UqI9S--ng"
      },
      "source": [
        "sub[\"label\"]=l"
      ],
      "execution_count": null,
      "outputs": []
    },
    {
      "cell_type": "code",
      "metadata": {
        "id": "PFTPwK8H_AxG"
      },
      "source": [
        "sub.to_csv(\"sub22.csv\",index=False)"
      ],
      "execution_count": null,
      "outputs": []
    },
    {
      "cell_type": "code",
      "metadata": {
        "colab": {
          "base_uri": "https://localhost:8080/",
          "height": 17
        },
        "id": "5kG3xsLFgNQ5",
        "outputId": "778d51ce-6c94-45c8-9288-799d28ba581e"
      },
      "source": [
        ""
      ],
      "execution_count": null,
      "outputs": [
        {
          "output_type": "display_data",
          "data": {
            "application/javascript": [
              "\n",
              "    async function download(id, filename, size) {\n",
              "      if (!google.colab.kernel.accessAllowed) {\n",
              "        return;\n",
              "      }\n",
              "      const div = document.createElement('div');\n",
              "      const label = document.createElement('label');\n",
              "      label.textContent = `Downloading \"${filename}\": `;\n",
              "      div.appendChild(label);\n",
              "      const progress = document.createElement('progress');\n",
              "      progress.max = size;\n",
              "      div.appendChild(progress);\n",
              "      document.body.appendChild(div);\n",
              "\n",
              "      const buffers = [];\n",
              "      let downloaded = 0;\n",
              "\n",
              "      const channel = await google.colab.kernel.comms.open(id);\n",
              "      // Send a message to notify the kernel that we're ready.\n",
              "      channel.send({})\n",
              "\n",
              "      for await (const message of channel.messages) {\n",
              "        // Send a message to notify the kernel that we're ready.\n",
              "        channel.send({})\n",
              "        if (message.buffers) {\n",
              "          for (const buffer of message.buffers) {\n",
              "            buffers.push(buffer);\n",
              "            downloaded += buffer.byteLength;\n",
              "            progress.value = downloaded;\n",
              "          }\n",
              "        }\n",
              "      }\n",
              "      const blob = new Blob(buffers, {type: 'application/binary'});\n",
              "      const a = document.createElement('a');\n",
              "      a.href = window.URL.createObjectURL(blob);\n",
              "      a.download = filename;\n",
              "      div.appendChild(a);\n",
              "      a.click();\n",
              "      div.remove();\n",
              "    }\n",
              "  "
            ],
            "text/plain": [
              "<IPython.core.display.Javascript object>"
            ]
          },
          "metadata": {
            "tags": []
          }
        },
        {
          "output_type": "display_data",
          "data": {
            "application/javascript": [
              "download(\"download_3448cf76-7d7b-48ec-833d-0778a5249e85\", \"sub112.csv\", 1896)"
            ],
            "text/plain": [
              "<IPython.core.display.Javascript object>"
            ]
          },
          "metadata": {
            "tags": []
          }
        }
      ]
    },
    {
      "cell_type": "code",
      "metadata": {
        "id": "2sv230kV_IkO"
      },
      "source": [
        "inceptionV3=tf.keras.applications.ResNet50 (input_shape=(94,94,3),\n",
        "    include_top=False\n",
        ")\n",
        "\n",
        "average_layer = GlobalAveragePooling2D()\n",
        "\n",
        "model = Sequential([\n",
        "    inceptionV3,\n",
        "    average_layer,\n",
        "    Dense(256, activation=tf.nn.relu),\n",
        "    BatchNormalization(),\n",
        "    Dropout(0.2),\n",
        "    Dense(2, activation=tf.nn.softmax)\n",
        "])"
      ],
      "execution_count": null,
      "outputs": []
    },
    {
      "cell_type": "code",
      "metadata": {
        "id": "gDluElrH4TZR"
      },
      "source": [
        "model.load_weights(\"/content/drive/MyDrive/5000-10000/new-300.h5\")"
      ],
      "execution_count": null,
      "outputs": []
    },
    {
      "cell_type": "code",
      "metadata": {
        "id": "YwRhY5go9yBA"
      },
      "source": [
        "model.load_weights(\"/content/drive/MyDrive/5000-10000/resnet5000.h5\")"
      ],
      "execution_count": null,
      "outputs": []
    },
    {
      "cell_type": "code",
      "metadata": {
        "id": "RRXs1QFtHKYa"
      },
      "source": [
        "model.compile(optimizer='Adam',loss='categorical_crossentropy',metrics=['accuracy'])"
      ],
      "execution_count": null,
      "outputs": []
    },
    {
      "cell_type": "code",
      "metadata": {
        "id": "UlXemoTgvwmo"
      },
      "source": [
        "model.fit_generator(train_generator, \n",
        "                          epochs=30,\n",
        "                          steps_per_epoch= train_df.shape[0]//batchsize,\n",
        "                          validation_data=test_generator,\n",
        "                          validation_steps = test_df.shape[0]//batchsize, callbacks=[model_checkpoint_callback])"
      ],
      "execution_count": null,
      "outputs": []
    },
    {
      "cell_type": "code",
      "metadata": {
        "id": "yLFyGr8iv0km"
      },
      "source": [
        "model.evaluate(test_generator)"
      ],
      "execution_count": null,
      "outputs": []
    },
    {
      "cell_type": "code",
      "metadata": {
        "id": "Cr5iMNsVbcnq"
      },
      "source": [
        "inceptionV3=tf.keras.applications.InceptionResNetV2 (input_shape=(96,96,3),\n",
        "    include_top=False\n",
        ")\n",
        "\n",
        "average_layer = GlobalAveragePooling2D()\n",
        "\n",
        "model = Sequential([\n",
        "    inceptionV3,\n",
        "    average_layer,\n",
        "    Dense(256, activation=tf.nn.relu),\n",
        "    BatchNormalization(),\n",
        "    Dropout(0.2),\n",
        "    Dense(2, activation=tf.nn.softmax)\n",
        "])"
      ],
      "execution_count": null,
      "outputs": []
    },
    {
      "cell_type": "code",
      "metadata": {
        "id": "ujwC6hK8bfq1"
      },
      "source": [
        "model.load_weights(\"/content/drive/MyDrive/5000-10000/new-300.h5\")"
      ],
      "execution_count": null,
      "outputs": []
    },
    {
      "cell_type": "code",
      "metadata": {
        "id": "UtPUrMvqbirt"
      },
      "source": [
        "model.compile(optimizer='sgd',loss='categorical_crossentropy',metrics=['accuracy'])"
      ],
      "execution_count": null,
      "outputs": []
    },
    {
      "cell_type": "code",
      "metadata": {
        "id": "wXRLvLv5bnqI"
      },
      "source": [
        "model.fit_generator(train_generator, \n",
        "                          epochs=5,\n",
        "                          steps_per_epoch= train_df.shape[0]//batchsize,\n",
        "                          validation_data=test_generator,\n",
        "                          validation_steps = test_df.shape[0]//batchsize, callbacks=[model_checkpoint_callback])"
      ],
      "execution_count": null,
      "outputs": []
    },
    {
      "cell_type": "code",
      "metadata": {
        "id": "-8kSxdwHbroR"
      },
      "source": [
        "inceptionV3=tf.keras.applications.Xception (input_shape=(96,96,3),\n",
        "    include_top=False,weights='imagenet'\n",
        ")\n",
        "\n",
        "average_layer = GlobalAveragePooling2D()\n",
        "\n",
        "model = Sequential([\n",
        "    mobilenetV2,\n",
        "    average_layer,\n",
        "    Dense(256, activation=tf.nn.relu),\n",
        "    BatchNormalization(),\n",
        "    Dropout(0.2),\n",
        "    Dense(2, activation=tf.nn.softmax)\n",
        "])"
      ],
      "execution_count": null,
      "outputs": []
    },
    {
      "cell_type": "code",
      "metadata": {
        "id": "AdIbhz1iq0O7"
      },
      "source": [
        "from tensorflow.keras.layers import Conv2D, Dropout, MaxPooling2D, Flatten, Dense\n"
      ],
      "execution_count": null,
      "outputs": []
    },
    {
      "cell_type": "code",
      "metadata": {
        "id": "BlGalhxhhvas"
      },
      "source": [
        "inceptionV3=tf.keras.applications.Incep (input_shape=(96,96,3),\n",
        "    include_top=False\n",
        ")\n",
        "\n",
        "average_layer = GlobalAveragePooling2D()\n",
        "\n",
        "model = Sequential([\n",
        "    inceptionV3,Conv2D(filters=32,kernel_size=(3,3),padding='same',activation='relu',input_shape=(96,96,3)),\n",
        "    Conv2D(filters=64,kernel_size=(3,3),padding='same',activation='relu'),\n",
        "    MaxPooling2D(pool_size=(2,2)),\n",
        "    Dropout(0.2), Flatten(),\n",
        "    Dense(50, activation=tf.nn.relu),\n",
        "    BatchNormalization(),\n",
        "    \n",
        "    Dense(2, activation=tf.nn.softmax)\n",
        "])"
      ],
      "execution_count": null,
      "outputs": []
    },
    {
      "cell_type": "code",
      "metadata": {
        "id": "uAAbtmPcqd3O"
      },
      "source": [
        "model.compile(optimizer='Adam',loss='categorical_crossentropy',metrics=['accuracy'])"
      ],
      "execution_count": null,
      "outputs": []
    },
    {
      "cell_type": "code",
      "metadata": {
        "id": "6LP9GWVduOY2"
      },
      "source": [
        "model.compile(optimizer=tf.keras.optimizers.Adam(lr=0.0001), loss='categorical_crossentropy', metrics=['accuracy'])"
      ],
      "execution_count": null,
      "outputs": []
    },
    {
      "cell_type": "code",
      "metadata": {
        "id": "WD0sbBuPtL_7"
      },
      "source": [
        "callback = tf.keras.callbacks.EarlyStopping(monitor='val_accuracy', patience=2, min_delta=0.01)\n"
      ],
      "execution_count": null,
      "outputs": []
    },
    {
      "cell_type": "code",
      "metadata": {
        "id": "cG-DKwiu11Jy"
      },
      "source": [
        "model_checkpoint_callback = tf.keras.callbacks.ModelCheckpoint(\n",
        "    filepath=checkpoint_filepath,\n",
        "    save_weights_only=True,\n",
        "    monitor='val_accuracy',\n",
        "    mode='max',\n",
        "    save_best_only=True)"
      ],
      "execution_count": null,
      "outputs": []
    },
    {
      "cell_type": "code",
      "metadata": {
        "id": "9paeRMR3rUxB"
      },
      "source": [
        "model.fit_generator(train_generator, \n",
        "                          epochs=30,\n",
        "                          steps_per_epoch= train_df.shape[0]//batchsize,\n",
        "                          validation_data=test_generator,\n",
        "                          validation_steps = test_df.shape[0]//batchsize, callbacks=[model_checkpoint_callback])"
      ],
      "execution_count": null,
      "outputs": []
    },
    {
      "cell_type": "code",
      "metadata": {
        "id": "5JiZs6DqrZCX"
      },
      "source": [
        "model.evaluate(test_generator)"
      ],
      "execution_count": null,
      "outputs": []
    },
    {
      "cell_type": "code",
      "metadata": {
        "id": "iEUtzCPkzpss"
      },
      "source": [
        "import numpy as np \n",
        "import pandas as pd \n",
        "import matplotlib.pyplot as plt\n",
        "import os\n",
        "import tensorflow as tf\n",
        "from keras.preprocessing.image import ImageDataGenerator, load_img\n",
        "from keras.layers import (Conv2D, BatchNormalization, Activation, MaxPooling2D, GlobalAveragePooling2D, \n",
        "                          Dense, Flatten, Dropout)\n",
        "from keras.optimizers import RMSprop, Adam, SGD\n",
        "from keras import regularizers\n",
        "from keras.callbacks import CSVLogger, ModelCheckpoint, ReduceLROnPlateau"
      ],
      "execution_count": null,
      "outputs": []
    },
    {
      "cell_type": "code",
      "metadata": {
        "id": "FaxiVRWzbUam"
      },
      "source": [
        ""
      ],
      "execution_count": null,
      "outputs": []
    },
    {
      "cell_type": "code",
      "metadata": {
        "id": "LSfjJZz6bUfk"
      },
      "source": [
        ""
      ],
      "execution_count": null,
      "outputs": []
    },
    {
      "cell_type": "code",
      "metadata": {
        "id": "H5p62ZshbUjk"
      },
      "source": [
        ""
      ],
      "execution_count": null,
      "outputs": []
    },
    {
      "cell_type": "code",
      "metadata": {
        "id": "5JsyAtgzbUnI"
      },
      "source": [
        ""
      ],
      "execution_count": null,
      "outputs": []
    },
    {
      "cell_type": "code",
      "metadata": {
        "id": "R0piSnMDbUqV"
      },
      "source": [
        ""
      ],
      "execution_count": null,
      "outputs": []
    },
    {
      "cell_type": "code",
      "metadata": {
        "id": "HxnQY3EebUuM"
      },
      "source": [
        ""
      ],
      "execution_count": null,
      "outputs": []
    },
    {
      "cell_type": "code",
      "metadata": {
        "id": "kuNPLaEmbUxU"
      },
      "source": [
        ""
      ],
      "execution_count": null,
      "outputs": []
    },
    {
      "cell_type": "code",
      "metadata": {
        "id": "OUixKLjHbU0r"
      },
      "source": [
        ""
      ],
      "execution_count": null,
      "outputs": []
    },
    {
      "cell_type": "code",
      "metadata": {
        "id": "w9F0dHRVbU6P"
      },
      "source": [
        ""
      ],
      "execution_count": null,
      "outputs": []
    }
  ]
}